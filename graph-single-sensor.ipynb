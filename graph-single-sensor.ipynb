{
 "cells": [
  {
   "cell_type": "markdown",
   "metadata": {},
   "source": [
    "## Creating a graph of a Home Assistant sensor\n",
    "This notebook contains a simple example that creates a graph with data stored by Home Assistant in the local database. For a introduction to [matplotlib](http://matplotlib.org/) check the [matplotlib - 2D and 3D plotting in Python](http://nbviewer.jupyter.org/github/jrjohansson/scientific-python-lectures/blob/master/Lecture-4-Matplotlib.ipynb) notebook."
   ]
  },
  {
   "cell_type": "markdown",
   "metadata": {},
   "source": [
    "### Setup"
   ]
  },
  {
   "cell_type": "code",
   "execution_count": 122,
   "metadata": {
    "collapsed": false
   },
   "outputs": [
    {
     "name": "stdout",
     "output_type": "stream",
     "text": [
      "Populating the interactive namespace from numpy and matplotlib\n"
     ]
    }
   ],
   "source": [
    "# matplotlib for plotting the data\n",
    "%pylab inline"
   ]
  },
  {
   "cell_type": "code",
   "execution_count": 123,
   "metadata": {
    "collapsed": false
   },
   "outputs": [],
   "source": [
    "# Instead of SQLAlchemy is the built-in Python support for SQLite used.\n",
    "import sqlite3\n",
    "import datetime\n",
    "\n",
    "from matplotlib import dates"
   ]
  },
  {
   "cell_type": "code",
   "execution_count": 124,
   "metadata": {
    "collapsed": false
   },
   "outputs": [],
   "source": [
    "conn = sqlite3.connect('/path/to/.homeassistant/home-assistant_v2.db')"
   ]
  },
  {
   "cell_type": "markdown",
   "metadata": {},
   "source": [
    "### Query"
   ]
  },
  {
   "cell_type": "code",
   "execution_count": 125,
   "metadata": {
    "collapsed": false
   },
   "outputs": [],
   "source": [
    "data = conn.execute(\"SELECT state, last_changed FROM states WHERE entity_id = 'sensor.kitchen_temperature' AND state != 'unknown'\")"
   ]
  },
  {
   "cell_type": "markdown",
   "metadata": {},
   "source": [
    "### Prepare data for graph"
   ]
  },
  {
   "cell_type": "code",
   "execution_count": 126,
   "metadata": {
    "collapsed": true
   },
   "outputs": [],
   "source": [
    "values = []\n",
    "timestamps = []"
   ]
  },
  {
   "cell_type": "code",
   "execution_count": 127,
   "metadata": {
    "collapsed": false
   },
   "outputs": [],
   "source": [
    "for x in data:\n",
    "    timestamps.append(dates.date2num(datetime.datetime.strptime(x[1], '%Y-%m-%d %H:%M:%S.%f')))\n",
    "    values.append(float(x[0]))"
   ]
  },
  {
   "cell_type": "markdown",
   "metadata": {},
   "source": [
    "### Plot the graph"
   ]
  },
  {
   "cell_type": "code",
   "execution_count": 128,
   "metadata": {
    "collapsed": false
   },
   "outputs": [
    {
     "data": {
      "text/plain": [
       "<matplotlib.text.Text at 0x7f8d18b310f0>"
      ]
     },
     "execution_count": 128,
     "metadata": {},
     "output_type": "execute_result"
    },
    {
     "data": {
      "image/png": "iVBORw0KGgoAAAANSUhEUgAAAXwAAAEPCAYAAABBUX+lAAAABHNCSVQICAgIfAhkiAAAAAlwSFlz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\n",
      "text/plain": [
       "<matplotlib.figure.Figure at 0x7f8d18a8fe10>"
      ]
     },
     "metadata": {},
     "output_type": "display_data"
    }
   ],
   "source": [
    "plt.plot_date(x=timestamps, y=values, fmt=\"r-\")\n",
    "plt.gcf().autofmt_xdate()  # Keep date labels from overlapping\n"
    "plt.ylabel('Temperature')\n",
    "plt.xlabel('Time line')"
   ]
  },
  {
   "cell_type": "code",
   "execution_count": null,
   "metadata": {
    "collapsed": true
   },
   "outputs": [],
   "source": []
  }
 ],
 "metadata": {
  "kernelspec": {
   "display_name": "Python 3",
   "language": "python",
   "name": "python3"
  },
  "language_info": {
   "codemirror_mode": {
    "name": "ipython",
    "version": 3
   },
   "file_extension": ".py",
   "mimetype": "text/x-python",
   "name": "python",
   "nbconvert_exporter": "python",
   "pygments_lexer": "ipython3",
   "version": "3.4.3"
  }
 },
 "nbformat": 4,
 "nbformat_minor": 0
}
